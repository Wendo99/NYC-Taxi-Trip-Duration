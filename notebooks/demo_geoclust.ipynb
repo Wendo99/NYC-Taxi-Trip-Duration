{
 "cells": [
  {
   "metadata": {},
   "cell_type": "markdown",
   "source": "# Picking the “Right” Number of Geo‐Clusters",
   "id": "a121c5fe676b25bb"
  },
  {
   "metadata": {},
   "cell_type": "markdown",
   "source": "# 1) Imports",
   "id": "8181fcca4c50553a"
  },
  {
   "metadata": {},
   "cell_type": "code",
   "source": [
    "import warnings\n",
    "\n",
    "import pandas as pd\n",
    "\n",
    "import utilities.cluster_utilities as cluster_utilities\n",
    "import viz\n",
    "\n",
    "warnings.filterwarnings(\n",
    "    \"ignore\",\n",
    "    message=\".*'force_all_finite' was renamed to 'ensure_all_finite'.*\",\n",
    "    category=FutureWarning,\n",
    "    module=\"sklearn\"\n",
    ")"
   ],
   "id": "5e75c35ec7580fd4",
   "outputs": [],
   "execution_count": null
  },
  {
   "metadata": {},
   "cell_type": "markdown",
   "source": "# Test Hyperparameters",
   "id": "286af82b809e2500"
  },
  {
   "metadata": {},
   "cell_type": "code",
   "source": "df = pd.read_csv()",
   "id": "c46f5788b4060363",
   "outputs": [],
   "execution_count": null
  },
  {
   "metadata": {},
   "cell_type": "code",
   "source": "print(cluster_utilities.optimize_cluster_params(df, cluster_type='pickup'))",
   "id": "51cc9c2493215c8e",
   "outputs": [],
   "execution_count": null
  },
  {
   "metadata": {},
   "cell_type": "code",
   "source": "print(cluster_utilities.optimize_cluster_params(df, cluster_type='dropoff'))",
   "id": "b9483b18aea6dad8",
   "outputs": [],
   "execution_count": null
  },
  {
   "metadata": {},
   "cell_type": "code",
   "source": "viz.cluster_map(df, cluster_type='pickup')",
   "id": "f4c90e9beab63101",
   "outputs": [],
   "execution_count": null
  },
  {
   "metadata": {},
   "cell_type": "code",
   "source": "viz.cluster_map(df, cluster_type='dropoff')",
   "id": "84df6193b259ae3e",
   "outputs": [],
   "execution_count": null
  }
 ],
 "metadata": {
  "kernelspec": {
   "display_name": "Python 3",
   "language": "python",
   "name": "python3"
  },
  "language_info": {
   "codemirror_mode": {
    "name": "ipython",
    "version": 2
   },
   "file_extension": ".py",
   "mimetype": "text/x-python",
   "name": "python",
   "nbconvert_exporter": "python",
   "pygments_lexer": "ipython2",
   "version": "2.7.6"
  }
 },
 "nbformat": 4,
 "nbformat_minor": 5
}
